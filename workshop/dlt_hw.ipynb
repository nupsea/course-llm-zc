{
 "cells": [
  {
   "cell_type": "code",
   "execution_count": 6,
   "id": "ea8c1f15",
   "metadata": {},
   "outputs": [],
   "source": [
    "import dlt\n",
    "import requests"
   ]
  },
  {
   "cell_type": "code",
   "execution_count": null,
   "id": "29727d5c",
   "metadata": {},
   "outputs": [
    {
     "name": "stdout",
     "output_type": "stream",
     "text": [
      "1.12.3\n"
     ]
    }
   ],
   "source": [
    "# Q1. get dlt version\n",
    "print(dlt.__version__)"
   ]
  },
  {
   "cell_type": "code",
   "execution_count": null,
   "id": "c821c5b2",
   "metadata": {},
   "outputs": [],
   "source": [
    "@dlt.resource(\n",
    "    name='zc_dlt_hw',\n",
    "    write_disposition='replace'\n",
    ")\n",
    "def zoomcamp_data():\n",
    "    docs_url = 'https://github.com/alexeygrigorev/llm-rag-workshop/raw/main/notebooks/documents.json'\n",
    "    docs_response = requests.get(docs_url)\n",
    "    documents_raw = docs_response.json()\n",
    "\n",
    "    for course in documents_raw:\n",
    "        course_name = course['course']\n",
    "\n",
    "        for doc in course['documents']:\n",
    "            doc['course'] = course_name\n",
    "            yield doc"
   ]
  },
  {
   "cell_type": "code",
   "execution_count": 10,
   "id": "d05d67bd",
   "metadata": {},
   "outputs": [],
   "source": [
    "# Q2. Dlt pipeline\n",
    "from dlt.destinations import qdrant\n",
    "\n",
    "qdrant_destination = qdrant(\n",
    "    qd_path='db.qdrant'\n",
    ")\n"
   ]
  },
  {
   "cell_type": "code",
   "execution_count": 11,
   "id": "cbe09f12",
   "metadata": {},
   "outputs": [
    {
     "name": "stderr",
     "output_type": "stream",
     "text": [
      "/Users/sethurama/.local/share/virtualenvs/course-llm-zc-Yowha_Zo/lib/python3.11/site-packages/tqdm/auto.py:21: TqdmWarning: IProgress not found. Please update jupyter and ipywidgets. See https://ipywidgets.readthedocs.io/en/stable/user_install.html\n",
      "  from .autonotebook import tqdm as notebook_tqdm\n",
      "Fetching 5 files: 100%|██████████| 5/5 [00:14<00:00,  2.82s/it]\n"
     ]
    },
    {
     "name": "stdout",
     "output_type": "stream",
     "text": [
      "Run started at 2025-07-08 00:17:32.074902+00:00 and COMPLETED in 23.64 seconds with 4 steps.\n",
      "Step extract COMPLETED in 1.44 seconds.\n",
      "\n",
      "Load package 1751933869.9656162 is EXTRACTED and NOT YET LOADED to the destination and contains no failed jobs\n",
      "\n",
      "Step normalize COMPLETED in 0.09 seconds.\n",
      "Normalized data for the following tables:\n",
      "- _dlt_pipeline_state: 1 row(s)\n",
      "- zc_dlt_hw: 948 row(s)\n",
      "\n",
      "Load package 1751933869.9656162 is NORMALIZED and NOT YET LOADED to the destination and contains no failed jobs\n",
      "\n",
      "Step load COMPLETED in 4.23 seconds.\n",
      "Pipeline zoomcamp_pipeline load step completed in 4.22 seconds\n",
      "1 load package(s) were loaded to destination qdrant and into dataset zoomcamp_tagged_data\n",
      "The qdrant destination used /Users/sethurama/DEV/LM/course-llm-zc/workshop/db.qdrant location to store data\n",
      "Load package 1751933869.9656162 is LOADED and contains no failed jobs\n",
      "\n",
      "Step run COMPLETED in 23.64 seconds.\n",
      "Pipeline zoomcamp_pipeline load step completed in 4.22 seconds\n",
      "1 load package(s) were loaded to destination qdrant and into dataset zoomcamp_tagged_data\n",
      "The qdrant destination used /Users/sethurama/DEV/LM/course-llm-zc/workshop/db.qdrant location to store data\n",
      "Load package 1751933869.9656162 is LOADED and contains no failed jobs\n"
     ]
    }
   ],
   "source": [
    "pipeline = dlt.pipeline(\n",
    "    pipeline_name='zoomcamp_pipeline',\n",
    "    destination=qdrant_destination,\n",
    "    dataset_name='zoomcamp_tagged_data'\n",
    ")\n",
    "\n",
    "load_info = pipeline.run(zoomcamp_data())\n",
    "print(pipeline.last_trace)\n"
   ]
  },
  {
   "cell_type": "code",
   "execution_count": null,
   "id": "76936533",
   "metadata": {},
   "outputs": [],
   "source": []
  }
 ],
 "metadata": {
  "kernelspec": {
   "display_name": "course-llm-zc-Yowha_Zo",
   "language": "python",
   "name": "python3"
  },
  "language_info": {
   "codemirror_mode": {
    "name": "ipython",
    "version": 3
   },
   "file_extension": ".py",
   "mimetype": "text/x-python",
   "name": "python",
   "nbconvert_exporter": "python",
   "pygments_lexer": "ipython3",
   "version": "3.11.10"
  }
 },
 "nbformat": 4,
 "nbformat_minor": 5
}
