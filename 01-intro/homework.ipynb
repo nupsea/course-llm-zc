{
 "cells": [
  {
   "cell_type": "code",
   "execution_count": 15,
   "id": "8e626aab-7d47-4f8c-8871-329d5b6a29cc",
   "metadata": {},
   "outputs": [],
   "source": [
    "from openai import OpenAI\n",
    "import os"
   ]
  },
  {
   "cell_type": "code",
   "execution_count": 16,
   "id": "70f8a7c4-2483-472e-80b0-15db9818dcf9",
   "metadata": {},
   "outputs": [],
   "source": [
    "client = OpenAI(api_key=os.environ.get(\"OPENAI_API_KEY\"))"
   ]
  },
  {
   "cell_type": "code",
   "execution_count": 17,
   "id": "4a677bf2-d895-4f62-9776-d6c4b6396789",
   "metadata": {},
   "outputs": [],
   "source": [
    "response = client.chat.completions.create(\n",
    "    model=\"gpt-4o\",\n",
    "    messages=[{\n",
    "        \"role\": \"user\",\n",
    "        \"content\": \"is this a good course\"\n",
    "}])\n",
    "         "
   ]
  },
  {
   "cell_type": "code",
   "execution_count": 25,
   "id": "8e8d3da2-9499-465d-a4a4-ca613054b71d",
   "metadata": {},
   "outputs": [
    {
     "data": {
      "text/plain": [
       "\"I’d be happy to help you determine if a course is good, but I'll need more information from you. Could you please tell me the name of the course and provide any details you have about it, such as the topics covered, the instructor's reputation, reviews, and what you're hoping to gain from it?\""
      ]
     },
     "execution_count": 25,
     "metadata": {},
     "output_type": "execute_result"
    }
   ],
   "source": [
    "response.choices[0].message.content"
   ]
  },
  {
   "cell_type": "code",
   "execution_count": null,
   "id": "8a09c65f-0702-4ce1-b675-4bcf3a276523",
   "metadata": {},
   "outputs": [],
   "source": []
  },
  {
   "cell_type": "code",
   "execution_count": null,
   "id": "214738fc-5c79-436e-87c1-3b0934300e8b",
   "metadata": {},
   "outputs": [],
   "source": []
  },
  {
   "cell_type": "code",
   "execution_count": null,
   "id": "998cdd0c-0da6-4949-b53c-1ea09b8287f3",
   "metadata": {},
   "outputs": [],
   "source": []
  }
 ],
 "metadata": {
  "kernelspec": {
   "display_name": "Python 3 (ipykernel)",
   "language": "python",
   "name": "python3"
  },
  "language_info": {
   "codemirror_mode": {
    "name": "ipython",
    "version": 3
   },
   "file_extension": ".py",
   "mimetype": "text/x-python",
   "name": "python",
   "nbconvert_exporter": "python",
   "pygments_lexer": "ipython3",
   "version": "3.11.10"
  }
 },
 "nbformat": 4,
 "nbformat_minor": 5
}
